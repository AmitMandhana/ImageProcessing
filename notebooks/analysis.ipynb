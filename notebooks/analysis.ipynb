{
 "cells": [
  {
   "cell_type": "markdown",
   "id": "7856296e",
   "metadata": {},
   "source": [
    "# SIFT from Scratch - Analysis Notebook\n",
    "\n",
    "This notebook demonstrates the SIFT implementation and runs various experiments:\n",
    "- Keypoint detection and visualization\n",
    "- Descriptor matching\n",
    "- Rotation and scale robustness tests\n",
    "- Comparison with OpenCV SIFT"
   ]
  },
  {
   "cell_type": "code",
   "execution_count": null,
   "id": "39d8edb3",
   "metadata": {},
   "outputs": [],
   "source": [
    "# Import libraries\n",
    "import sys\n",
    "sys.path.insert(0, '..')\n",
    "\n",
    "import cv2\n",
    "import numpy as np\n",
    "import matplotlib.pyplot as plt\n",
    "from pathlib import Path\n",
    "\n",
    "from src.sift_from_scratch import SIFT_Scratch, match_descriptors, draw_matches\n",
    "from src.utils import read_color, rotate_image, resize_image, draw_keypoints_custom\n",
    "\n",
    "%matplotlib inline\n",
    "plt.rcParams['figure.figsize'] = (12, 8)"
   ]
  },
  {
   "cell_type": "markdown",
   "id": "ba75be3e",
   "metadata": {},
   "source": [
    "## 1. Load Test Images"
   ]
  },
  {
   "cell_type": "code",
   "execution_count": null,
   "id": "78b570ce",
   "metadata": {},
   "outputs": [],
   "source": [
    "# Load image pairs\n",
    "img1 = cv2.imread('../data/graffiti/img1.jpg')\n",
    "img2 = cv2.imread('../data/graffiti/img2.jpg')\n",
    "\n",
    "if img1 is None or img2 is None:\n",
    "    print(\"Images not found. Please place images in data/graffiti/\")\n",
    "else:\n",
    "    print(f\"Image 1 shape: {img1.shape}\")\n",
    "    print(f\"Image 2 shape: {img2.shape}\")\n",
    "    \n",
    "    # Display images\n",
    "    fig, axes = plt.subplots(1, 2, figsize=(12, 6))\n",
    "    axes[0].imshow(cv2.cvtColor(img1, cv2.COLOR_BGR2RGB))\n",
    "    axes[0].set_title('Image 1')\n",
    "    axes[0].axis('off')\n",
    "    axes[1].imshow(cv2.cvtColor(img2, cv2.COLOR_BGR2RGB))\n",
    "    axes[1].set_title('Image 2')\n",
    "    axes[1].axis('off')\n",
    "    plt.tight_layout()\n",
    "    plt.show()"
   ]
  },
  {
   "cell_type": "markdown",
   "id": "2609e2ca",
   "metadata": {},
   "source": [
    "## 2. SIFT Detection and Description"
   ]
  },
  {
   "cell_type": "code",
   "execution_count": null,
   "id": "7ab415d0",
   "metadata": {},
   "outputs": [],
   "source": [
    "# Create SIFT detector\n",
    "sift = SIFT_Scratch(num_octaves=3, scales_per_octave=3, \n",
    "                   contrast_thresh=0.04, edge_thresh=10)\n",
    "\n",
    "print(\"Detecting keypoints...\")\n",
    "kp1, desc1 = sift.detect_and_compute(img1)\n",
    "kp2, desc2 = sift.detect_and_compute(img2)\n",
    "\n",
    "print(f\"Keypoints in image 1: {len(kp1)}\")\n",
    "print(f\"Keypoints in image 2: {len(kp2)}\")\n",
    "print(f\"Descriptor shape: {desc1.shape if len(desc1) > 0 else 'N/A'}\")"
   ]
  },
  {
   "cell_type": "markdown",
   "id": "9a3a9e3a",
   "metadata": {},
   "source": [
    "## 3. Visualize Keypoints and Match Descriptors"
   ]
  },
  {
   "cell_type": "code",
   "execution_count": null,
   "id": "bfff10be",
   "metadata": {},
   "outputs": [],
   "source": [
    "# Match descriptors with ratio test\n",
    "matches = match_descriptors(desc1, desc2, ratio=0.75)\n",
    "print(f\"Number of matches: {len(matches)}\")\n",
    "print(f\"Match ratio: {len(matches) / max(len(kp1), len(kp2)):.3f}\")\n",
    "\n",
    "# Visualize matches\n",
    "img_matches = draw_matches(img1, kp1, img2, kp2, matches, max_matches=100)\n",
    "plt.figure(figsize=(16, 8))\n",
    "plt.imshow(cv2.cvtColor(img_matches, cv2.COLOR_BGR2RGB))\n",
    "plt.title(f'SIFT Matches: {len(matches)}')\n",
    "plt.axis('off')\n",
    "plt.show()"
   ]
  },
  {
   "cell_type": "markdown",
   "id": "f1d8a2ad",
   "metadata": {},
   "source": [
    "## 4. Rotation Robustness Test"
   ]
  },
  {
   "cell_type": "code",
   "execution_count": null,
   "id": "ae319313",
   "metadata": {},
   "outputs": [],
   "source": [
    "# Test rotation invariance\n",
    "angles = [0, 15, 30, 45, 60, 90]\n",
    "rotation_results = []\n",
    "\n",
    "for angle in angles:\n",
    "    img_rot = rotate_image(img1, angle)\n",
    "    kp_rot, desc_rot = sift.detect_and_compute(img_rot)\n",
    "    matches_rot = match_descriptors(desc1, desc_rot, ratio=0.75)\n",
    "    rotation_results.append(len(matches_rot))\n",
    "    print(f\"Rotation {angle:3d}°: {len(matches_rot)} matches\")\n",
    "\n",
    "# Plot results\n",
    "plt.figure(figsize=(10, 6))\n",
    "plt.plot(angles, rotation_results, 'o-', linewidth=2, markersize=8)\n",
    "plt.xlabel('Rotation Angle (degrees)', fontsize=12)\n",
    "plt.ylabel('Number of Matches', fontsize=12)\n",
    "plt.title('Rotation Robustness', fontsize=14)\n",
    "plt.grid(True, alpha=0.3)\n",
    "plt.show()"
   ]
  }
 ],
 "metadata": {
  "language_info": {
   "name": "python"
  }
 },
 "nbformat": 4,
 "nbformat_minor": 5
}
